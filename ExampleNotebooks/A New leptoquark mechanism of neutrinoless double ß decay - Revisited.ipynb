{
 "cells": [
  {
   "cell_type": "markdown",
   "metadata": {},
   "source": [
    "# Leptoquark Mechanisms of $0\\nu\\beta\\beta$"
   ]
  },
  {
   "cell_type": "markdown",
   "metadata": {},
   "source": [
    "### Append path because this file is not in the main directory"
   ]
  },
  {
   "cell_type": "code",
   "execution_count": 1,
   "metadata": {},
   "outputs": [],
   "source": [
    "import sys\n",
    "sys.path.append(\"../src/\")\n",
    "sys.path.append(\"../\")"
   ]
  },
  {
   "cell_type": "markdown",
   "metadata": {},
   "source": [
    "### Import stuff"
   ]
  },
  {
   "cell_type": "code",
   "execution_count": 2,
   "metadata": {},
   "outputs": [],
   "source": [
    "import numpy as np\n",
    "import nudobe\n",
    "from nudobe import EFT, functions, constants\n",
    "from constants import G_F\n",
    "from functions import *\n",
    "from EFT import LEFT\n",
    "import pandas as pd"
   ]
  },
  {
   "cell_type": "markdown",
   "metadata": {},
   "source": [
    "### LQs"
   ]
  },
  {
   "cell_type": "markdown",
   "metadata": {},
   "source": [
    "Here we want to revisit the Leptoquark (LQ) mechanisms discussed in https://arxiv.org/abs/hep-ph/9603213.\n",
    "First we define a function \"get_WCs()\" that generates a dictionary with the LEFT WCs from the LQ parameters. Due to the fact that the LNV interactions via LQs are only induced after EWSB it is most straightforward to directly match onto LEFT instead of SMEFT."
   ]
  },
  {
   "cell_type": "code",
   "execution_count": 3,
   "metadata": {},
   "outputs": [],
   "source": [
    "def get_WCs(alpha_SL  = 0,\n",
    "            alpha_VL  = 0,\n",
    "            alpha_SR  = 0,\n",
    "            alpha_VR  = 0,\n",
    "            epsilon_S = 0,\n",
    "            epsilon_V = 0, \n",
    "            M_V       = 1*TeV, \n",
    "            M_S       = 1*TeV\n",
    "           ):\n",
    "    WC_LQ = {}\n",
    "    \n",
    "    #see arXiv: hep-ph/9603213 for the definition of eps_I, alpha_I\n",
    "    WC_LQ[\"SL(6)\"] =  1/(G_F*np.sqrt(2)) * epsilon_V/(M_V**2)\n",
    "    WC_LQ[\"SR(6)\"] =  1/(G_F*np.sqrt(2)) * epsilon_S/(M_S**2)\n",
    "    WC_LQ[\"VL(6)\"] = +1/(G_F*np.sqrt(2)) * np.sqrt(2) * (alpha_SL/(M_S**2) + alpha_VL/(M_V**2))\n",
    "    WC_LQ[\"VR(6)\"] = -1/(G_F*np.sqrt(2)) * (alpha_SR/(M_S**2) + alpha_VR/(M_V**2))\n",
    "\n",
    "    return(WC_LQ)"
   ]
  },
  {
   "cell_type": "markdown",
   "metadata": {},
   "source": [
    "Define the half-life limits from experiments in different isotopes"
   ]
  },
  {
   "cell_type": "code",
   "execution_count": 4,
   "metadata": {},
   "outputs": [],
   "source": [
    "exp_limits = {\"136Xe\"    : 2.3e+26,   #KamLAND-Zen\n",
    "              \"130Te\"    : 3.2e+25,   #CUORE\n",
    "              \"100Mo\"    : 1.5e+24,   #CUPID-Mo\n",
    "              \"76Ge\"     : 1.8e+26,   #GERDA\n",
    "              \"76Ge_old\" : 7.4e+24    #Used in hep-ph/9603213\n",
    "             }  \n",
    "\n",
    "#we use IBM2 NMEs so we can include the 100Mo limits\n",
    "method = \"IBM2\""
   ]
  },
  {
   "cell_type": "code",
   "execution_count": 5,
   "metadata": {},
   "outputs": [],
   "source": [
    "#store limits from each experiment in a pandas DataFrame\n",
    "parameter_limits = pd.DataFrame({})"
   ]
  },
  {
   "cell_type": "markdown",
   "metadata": {},
   "source": [
    "Calculate the limits on the LQ parameters"
   ]
  },
  {
   "cell_type": "code",
   "execution_count": 6,
   "metadata": {},
   "outputs": [],
   "source": [
    "for isotope in exp_limits:\n",
    "    limits = {}\n",
    "    if isotope == \"76Ge_old\":\n",
    "        iso = \"76Ge\"\n",
    "    else:\n",
    "        iso = isotope\n",
    "    limits[\"alpha_SL\"]  = np.sqrt(LEFT(get_WCs(alpha_SL  = 1), method = method).t_half(iso)/exp_limits[isotope])\n",
    "    limits[\"alpha_VL\"]  = np.sqrt(LEFT(get_WCs(alpha_VL  = 1), method = method).t_half(iso)/exp_limits[isotope])\n",
    "    limits[\"alpha_SR\"]  = np.sqrt(LEFT(get_WCs(alpha_SR  = 1), method = method).t_half(iso)/exp_limits[isotope])\n",
    "    limits[\"alpha_VR\"]  = np.sqrt(LEFT(get_WCs(alpha_VR  = 1), method = method).t_half(iso)/exp_limits[isotope])\n",
    "    limits[\"epsilon_S\"] = np.sqrt(LEFT(get_WCs(epsilon_S = 1), method = method).t_half(iso)/exp_limits[isotope])\n",
    "    limits[\"epsilon_V\"] = np.sqrt(LEFT(get_WCs(epsilon_V = 1), method = method).t_half(iso)/exp_limits[isotope])\n",
    "    parameter_limits[isotope] = limits.values()\n",
    "parameter_limits.index = limits.keys()"
   ]
  },
  {
   "cell_type": "code",
   "execution_count": 7,
   "metadata": {},
   "outputs": [
    {
     "data": {
      "text/html": [
       "<div>\n",
       "<style scoped>\n",
       "    .dataframe tbody tr th:only-of-type {\n",
       "        vertical-align: middle;\n",
       "    }\n",
       "\n",
       "    .dataframe tbody tr th {\n",
       "        vertical-align: top;\n",
       "    }\n",
       "\n",
       "    .dataframe thead th {\n",
       "        text-align: right;\n",
       "    }\n",
       "</style>\n",
       "<table border=\"1\" class=\"dataframe\">\n",
       "  <thead>\n",
       "    <tr style=\"text-align: right;\">\n",
       "      <th></th>\n",
       "      <th>136Xe</th>\n",
       "      <th>130Te</th>\n",
       "      <th>100Mo</th>\n",
       "      <th>76Ge</th>\n",
       "      <th>76Ge_old</th>\n",
       "    </tr>\n",
       "  </thead>\n",
       "  <tbody>\n",
       "    <tr>\n",
       "      <th>alpha_SL</th>\n",
       "      <td>1.814991e-08</td>\n",
       "      <td>3.894713e-08</td>\n",
       "      <td>1.682959e-07</td>\n",
       "      <td>2.860496e-08</td>\n",
       "      <td>1.410788e-07</td>\n",
       "    </tr>\n",
       "    <tr>\n",
       "      <th>alpha_VL</th>\n",
       "      <td>1.814991e-08</td>\n",
       "      <td>3.894713e-08</td>\n",
       "      <td>1.682959e-07</td>\n",
       "      <td>2.860496e-08</td>\n",
       "      <td>1.410788e-07</td>\n",
       "    </tr>\n",
       "    <tr>\n",
       "      <th>alpha_SR</th>\n",
       "      <td>1.855595e-06</td>\n",
       "      <td>4.051913e-06</td>\n",
       "      <td>1.144025e-05</td>\n",
       "      <td>3.763424e-06</td>\n",
       "      <td>1.856109e-05</td>\n",
       "    </tr>\n",
       "    <tr>\n",
       "      <th>alpha_VR</th>\n",
       "      <td>1.855595e-06</td>\n",
       "      <td>4.051913e-06</td>\n",
       "      <td>1.144025e-05</td>\n",
       "      <td>3.763424e-06</td>\n",
       "      <td>1.856109e-05</td>\n",
       "    </tr>\n",
       "    <tr>\n",
       "      <th>epsilon_S</th>\n",
       "      <td>6.029271e-09</td>\n",
       "      <td>1.262318e-08</td>\n",
       "      <td>2.273532e-08</td>\n",
       "      <td>9.383397e-09</td>\n",
       "      <td>4.627863e-08</td>\n",
       "    </tr>\n",
       "    <tr>\n",
       "      <th>epsilon_V</th>\n",
       "      <td>6.029271e-09</td>\n",
       "      <td>1.262318e-08</td>\n",
       "      <td>2.273532e-08</td>\n",
       "      <td>9.383397e-09</td>\n",
       "      <td>4.627863e-08</td>\n",
       "    </tr>\n",
       "  </tbody>\n",
       "</table>\n",
       "</div>"
      ],
      "text/plain": [
       "                  136Xe         130Te         100Mo          76Ge  \\\n",
       "alpha_SL   1.814991e-08  3.894713e-08  1.682959e-07  2.860496e-08   \n",
       "alpha_VL   1.814991e-08  3.894713e-08  1.682959e-07  2.860496e-08   \n",
       "alpha_SR   1.855595e-06  4.051913e-06  1.144025e-05  3.763424e-06   \n",
       "alpha_VR   1.855595e-06  4.051913e-06  1.144025e-05  3.763424e-06   \n",
       "epsilon_S  6.029271e-09  1.262318e-08  2.273532e-08  9.383397e-09   \n",
       "epsilon_V  6.029271e-09  1.262318e-08  2.273532e-08  9.383397e-09   \n",
       "\n",
       "               76Ge_old  \n",
       "alpha_SL   1.410788e-07  \n",
       "alpha_VL   1.410788e-07  \n",
       "alpha_SR   1.856109e-05  \n",
       "alpha_VR   1.856109e-05  \n",
       "epsilon_S  4.627863e-08  \n",
       "epsilon_V  4.627863e-08  "
      ]
     },
     "execution_count": 7,
     "metadata": {},
     "output_type": "execute_result"
    }
   ],
   "source": [
    "parameter_limits"
   ]
  },
  {
   "cell_type": "markdown",
   "metadata": {},
   "source": [
    "We see that the best limits are set by the KamLAND-Zen experiment in $^{136}$Xe.\n",
    "$$\\alpha_{iL}   \\leq 1.81\\times10^{-8}  \\left(\\frac{M_i}{1\\mathrm{TeV}}\\right)^2$$\n",
    "$$\\alpha_{iR}   \\leq 1.86\\times10^{-6}  \\left(\\frac{M_i}{1\\mathrm{TeV}}\\right)^2$$\n",
    "$$\\epsilon_{i}  \\leq 6.03\\times10^{-9}  \\left(\\frac{M_i}{1\\mathrm{TeV}}\\right)^2$$"
   ]
  },
  {
   "cell_type": "markdown",
   "metadata": {},
   "source": [
    "and that compared to the limits in https://arxiv.org/abs/hep-ph/9603213 \n",
    "$$\\alpha_{iL}   \\leq 2.3\\times10^{-8}  \\left(\\frac{M_i}{1\\mathrm{TeV}}\\right)^2$$\n",
    "$$\\alpha_{iR}   \\leq 8.3\\times10^{-6}  \\left(\\frac{M_i}{1\\mathrm{TeV}}\\right)^2$$\n",
    "$$\\epsilon_{i}  \\leq 2.4\\times10^{-7}  \\left(\\frac{M_i}{1\\mathrm{TeV}}\\right)^2$$\n",
    "It seems that the improvements on the parameter limits are only small albeit the improvement in the half-life limit by 2 orders of magnitude should lead to an improvement of approximately one order of magnitude on the operator limits. The difference to the original publication arises from the different PSFs and NMEs. Rederiving the old limits on the parameters from nudobe using the IBM2 NMEs and a half-life of $7.4\\times 10^{24}\\,\\mathrm{yrs}$ results in\n",
    "$$\\alpha_{iL}   \\leq 1.41\\times10^{-7}  \\left(\\frac{M_i}{1\\mathrm{TeV}}\\right)^2$$\n",
    "$$\\alpha_{iR}   \\leq 1.86\\times10^{-5}  \\left(\\frac{M_i}{1\\mathrm{TeV}}\\right)^2$$\n",
    "$$\\epsilon_{i}  \\leq 4.63\\times10^{-8}  \\left(\\frac{M_i}{1\\mathrm{TeV}}\\right)^2$$\n",
    "\n",
    "\n",
    "\n",
    "\n",
    "The half-life in https://arxiv.org/abs/hep-ph/9603213 is written as\n",
    "$$T^{-1}_{1/2} = |M|^2\\frac{2}{G_F^2}\\left[\\tilde{C}_1 \\left(\\frac{\\epsilon_S}{M_S^2} + \\frac{\\epsilon_V}{M_V^2}\\right)^2 + C_4 \\left(\\frac{\\alpha_{SR}}{M_S^2} + \\frac{\\alpha_{VR}}{M_V^2}\\right)^2 + C_5 \\left(\\frac{\\alpha_{SL}}{M_S^2} + \\frac{\\alpha_{VL}}{M_V^2}\\right)^2\\right]$$\n",
    "with\n",
    "$$|M_{GT}|^2\\tilde{C}_1 = 1.63\\times10^{-10}$$\n",
    "$$|M_{GT}|^2C_4 = 1.36\\times10^{-13}$$\n",
    "$$|M_{GT}|^2C_5 = 8.88\\times10^{-9}$$\n",
    "(Note that we replaced $2C_5\\rightarrow C_5$ here such that the new $C_5$ is twice that of the original publication. Also there seems to be some confusion about this factor of 2 in front of C_5 when deriving the limits on $\\alpha_{SL,VL}$. We simply quote the limits given in hep-ph/9603213).\n",
    "\n",
    "We can use this expression to compare the half-life equations used in hep-ph/9603213 and nudobe for different isotopes, NMEs and PSFs to see how impactful the specific choice is:"
   ]
  },
  {
   "cell_type": "code",
   "execution_count": 8,
   "metadata": {},
   "outputs": [
    {
     "name": "stdout",
     "output_type": "stream",
     "text": [
      "2.4e-12\n",
      "2e-15\n",
      "1.31e-10\n"
     ]
    }
   ],
   "source": [
    "#find prefactors to rewrite above half-life equation in terms of numerical factors\n",
    "\n",
    "#write prefactors to array\n",
    "fac = np.zeros(3)\n",
    "idx = 0\n",
    "\n",
    "#derive the prefactors assuming M_S = M_V = 1TeV\n",
    "for MC in [1.63e-10, 1.36e-13, 2*4.44e-9]:\n",
    "    \n",
    "    #prefactor\n",
    "    x = 2/G_F**2*MC/(1*TeV)**4\n",
    "    \n",
    "    #magnitude\n",
    "    mag = 10**(np.round(np.log10(x)))\n",
    "    \n",
    "    #print rounded factor\n",
    "    print(np.round(x/mag, 2)*mag)\n",
    "    \n",
    "    #store in array\n",
    "    fac[idx] = x\n",
    "    idx+=1"
   ]
  },
  {
   "cell_type": "markdown",
   "metadata": {},
   "source": [
    "we can write the half-life resulting from the original publications NMEs and PSFs as\n",
    "$$T_{1/2}^{-1} = +2.40~\\mathrm{y}^{-1}\\times 10^{-12}\\left|\\epsilon_{S,V}\\right|^2+2.00~\\mathrm{y}^{-1}\\times 10^{-15}\\left|\\alpha_{SR,VR}\\right|^2+1.31~\\mathrm{y}^{-1}\\times 10^{-10}\\left|\\alpha_{SL,VL}\\right|^2+...$$\n",
    "assuming $M_S = M_V = 1\\,\\mathrm{TeV}$. The ''...'' denote any mixing terms. \n",
    "\n",
    "We can now get a similiar expression for our set of NMEs and PSFs used:"
   ]
  },
  {
   "cell_type": "code",
   "execution_count": 9,
   "metadata": {},
   "outputs": [
    {
     "name": "stdout",
     "output_type": "stream",
     "text": [
      "6.309679807624132e-11\n",
      "3.9224850074708943e-16\n",
      "6.789607456986384e-12\n"
     ]
    }
   ],
   "source": [
    "#compare 76Ge\n",
    "isotope = \"76Ge\"\n",
    "print(1/LEFT(get_WCs(epsilon_V = 1), method = method).t_half(isotope))\n",
    "print(1/LEFT(get_WCs(alpha_SR  = 1), method = method).t_half(isotope))\n",
    "print(1/LEFT(get_WCs(alpha_SL  = 1), method = method).t_half(isotope))"
   ]
  },
  {
   "cell_type": "markdown",
   "metadata": {},
   "source": [
    "that is, the half-life equation from the NMEs and PSFs used in nudobe for 76Ge is given by\n",
    "\n",
    "$$T_{1/2}^{-1} = +6.31~\\mathrm{y}^{-1}\\times 10^{-11}\\left|\\epsilon_{S,V}\\right|^2+3.92~\\mathrm{y}^{-1}\\times 10^{-16}\\left|\\alpha_{SR,VR}\\right|^2+6.80~\\mathrm{y}^{-1}\\times 10^{-12}\\left|\\alpha_{SL,VL}\\right|^2 + ...$$\n",
    "\n",
    "We see that the prefactors differ by 1-2 orders of magnitude. We attribute this to improvements on the description of NMEs and PSFs. Note that the descripancy holds for both PSF-schemes available in nudobe."
   ]
  },
  {
   "cell_type": "code",
   "execution_count": 10,
   "metadata": {},
   "outputs": [
    {
     "name": "stdout",
     "output_type": "stream",
     "text": [
      "5.901589637529928e-11\n",
      "3.7106098044220666e-16\n",
      "6.302198334648744e-12\n"
     ]
    }
   ],
   "source": [
    "#compare 76Ge\n",
    "isotope = \"76Ge\"\n",
    "print(1/LEFT(get_WCs(epsilon_V = 1), method = method, PSF_scheme = \"B\").t_half(isotope))\n",
    "print(1/LEFT(get_WCs(alpha_SR  = 1), method = method, PSF_scheme = \"B\").t_half(isotope))\n",
    "print(1/LEFT(get_WCs(alpha_SL  = 1), method = method, PSF_scheme = \"B\").t_half(isotope))"
   ]
  },
  {
   "cell_type": "markdown",
   "metadata": {},
   "source": [
    "Additionally, the differences stay when looking at the shell model and QRPA NMEs available in nudobe"
   ]
  },
  {
   "cell_type": "code",
   "execution_count": 11,
   "metadata": {},
   "outputs": [
    {
     "name": "stdout",
     "output_type": "stream",
     "text": [
      "5.095913505345295e-11\n",
      "1.2896616653527087e-16\n",
      "5.57781195413972e-12\n"
     ]
    }
   ],
   "source": [
    "#compare 76Ge\n",
    "isotope = \"76Ge\"\n",
    "method = \"SM\"\n",
    "print(1/LEFT(get_WCs(epsilon_V = 1), method = method).t_half(isotope))\n",
    "print(1/LEFT(get_WCs(alpha_SR  = 1), method = method).t_half(isotope))\n",
    "print(1/LEFT(get_WCs(alpha_SL  = 1), method = method).t_half(isotope))"
   ]
  },
  {
   "cell_type": "code",
   "execution_count": 12,
   "metadata": {},
   "outputs": [
    {
     "name": "stdout",
     "output_type": "stream",
     "text": [
      "2.900406770419897e-10\n",
      "5.135486865840479e-16\n",
      "2.5783166229060615e-11\n"
     ]
    }
   ],
   "source": [
    "#compare 76Ge\n",
    "isotope = \"76Ge\"\n",
    "method = \"QRPA\"\n",
    "print(1/LEFT(get_WCs(epsilon_V = 1), method = method).t_half(isotope))\n",
    "print(1/LEFT(get_WCs(alpha_SR  = 1), method = method).t_half(isotope))\n",
    "print(1/LEFT(get_WCs(alpha_SL  = 1), method = method).t_half(isotope))"
   ]
  },
  {
   "cell_type": "markdown",
   "metadata": {},
   "source": [
    "If we are using 136Xe and IBM2 NMEs again instead to get the most stringent limit on the different operators we can write the half-life as"
   ]
  },
  {
   "cell_type": "code",
   "execution_count": 13,
   "metadata": {},
   "outputs": [
    {
     "name": "stdout",
     "output_type": "stream",
     "text": [
      "1.1960311613307932e-10\n",
      "1.262716641018064e-15\n",
      "1.3198458531189653e-11\n"
     ]
    }
   ],
   "source": [
    "#using KamLAND-ZEN\n",
    "isotope = \"136Xe\"\n",
    "method = \"IBM2\"\n",
    "print(1/LEFT(get_WCs(epsilon_V = 1), method = method).t_half(isotope))\n",
    "print(1/LEFT(get_WCs(alpha_SR  = 1), method = method).t_half(isotope))\n",
    "print(1/LEFT(get_WCs(alpha_SL  = 1), method = method).t_half(isotope))"
   ]
  },
  {
   "cell_type": "markdown",
   "metadata": {},
   "source": [
    "$$T_{1/2}^{-1} = +1.20~\\mathrm{y}^{-1}\\times 10^{-10}\\left|\\epsilon_{S,V}\\right|^2+1.26~\\mathrm{y}^{-1}\\times 10^{-15}\\left|\\alpha_{SR,VR}\\right|^2+1.32~\\mathrm{y}^{-1}\\times 10^{-11}\\left|\\alpha_{SL,VL}\\right|^2 + ...$$\n",
    "\n",
    "We see that the prefactors are generally 2-4 orders of magnitude smaller than previously estimated."
   ]
  }
 ],
 "metadata": {
  "kernelspec": {
   "display_name": "Python 3 (ipykernel)",
   "language": "python",
   "name": "python3"
  },
  "language_info": {
   "codemirror_mode": {
    "name": "ipython",
    "version": 3
   },
   "file_extension": ".py",
   "mimetype": "text/x-python",
   "name": "python",
   "nbconvert_exporter": "python",
   "pygments_lexer": "ipython3",
   "version": "3.10.4"
  }
 },
 "nbformat": 4,
 "nbformat_minor": 4
}
